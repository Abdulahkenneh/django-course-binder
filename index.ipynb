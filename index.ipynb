# index.ipynb
import numpy as np
print("Test run: ", np.arange(5))
